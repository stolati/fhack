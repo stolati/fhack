{
 "cells": [
  {
   "cell_type": "markdown",
   "metadata": {},
   "source": [
    "### Set up the app"
   ]
  },
  {
   "cell_type": "code",
   "execution_count": null,
   "metadata": {
    "collapsed": true
   },
   "outputs": [],
   "source": [
    "from receipts.app import init_app\n",
    "from receipts.models import Document, Label, DataModel, DataClass, User, PendingLabel, PendingLabelResponse, db\n",
    "\n",
    "app = init_app()"
   ]
  },
  {
   "cell_type": "markdown",
   "metadata": {},
   "source": [
    "### Set up models"
   ]
  },
  {
   "cell_type": "code",
   "execution_count": null,
   "metadata": {
    "collapsed": true
   },
   "outputs": [],
   "source": [
    "model = DataModel.get_or_create(name=\"receipts\")\n",
    "model.longname = \"Document Type\"\n",
    "model = DataModel.get_or_create(name=\"prices\")\n",
    "model.longname = \"Price Type\"\n",
    "    \n",
    "\n",
    "db.session.flush()"
   ]
  },
  {
   "cell_type": "markdown",
   "metadata": {},
   "source": [
    "### Import Data from Labeling Party"
   ]
  },
  {
   "cell_type": "code",
   "execution_count": null,
   "metadata": {},
   "outputs": [],
   "source": [
    "import json\n",
    "import os\n",
    "from collections import defaultdict\n",
    "from glob import glob\n",
    "\n",
    "from sqlalchemy.exc import IntegrityError\n",
    "    \n",
    "users = {}\n",
    "documents = {}\n",
    "\n",
    "for model in DataModel.query:\n",
    "    print(\"Collecting data for {}...\".format(model.name))\n",
    "    data_classes = {}\n",
    "    responses = {}\n",
    "    for datadir in glob(\"party-outputs/[0-9]-*/\"):    \n",
    "        username = os.path.basename(datadir.strip(\"/\")).split(\"-\")[1]\n",
    "        if username not in users:\n",
    "            users[username] = User(username=username)\n",
    "            db.session.add(users[username])\n",
    "        user = users[username]\n",
    "        \n",
    "        with open(os.path.join(datadir, model.name, \"labels.dat\")) as label_file:\n",
    "            for line in label_file:\n",
    "                data = json.loads(line)\n",
    "                receipt_path = os.path.join(\"receipt_data/party\", os.path.basename(data[0]))\n",
    "                \n",
    "                if receipt_path not in documents:\n",
    "                    documents[receipt_path] = Document(path=receipt_path)\n",
    "                    db.session.add(documents[receipt_path])\n",
    "                document = documents[receipt_path]\n",
    "                \n",
    "                for position, classno in data[1]:\n",
    "                    if classno not in data_classes:\n",
    "                        data_classes[classno] = DataClass(model=model, classno=classno)\n",
    "                        db.session.add(data_classes[classno])\n",
    "                        \n",
    "                    data_class = data_classes[classno]\n",
    "                    \n",
    "                    responses[(document, position, user)] = data_class\n",
    "    \n",
    "    print(\"Storing data for {}...\".format(model.name))\n",
    "    pending_labels = {}\n",
    "    for (document, position, user), data_class in responses.items():\n",
    "        if (document, position) not in pending_labels:\n",
    "            pending_labels[(document, position)] = PendingLabel(document=document, position=position, model=model)\n",
    "            db.session.add(pending_labels[(document, position)])\n",
    "\n",
    "        pl = pending_labels[(document, position)]\n",
    "\n",
    "        db.session.add(PendingLabelResponse(data_class=data_class, user=user, pending_label=pl))\n",
    "                \n",
    "    db.session.flush()"
   ]
  },
  {
   "cell_type": "markdown",
   "metadata": {},
   "source": [
    "### Store Label for PendingLabels where there is agreement"
   ]
  },
  {
   "cell_type": "code",
   "execution_count": null,
   "metadata": {
    "collapsed": true
   },
   "outputs": [],
   "source": [
    "for pl in PendingLabel.query.options(db.joinedload(PendingLabel.responses)):\n",
    "    if len(pl.responses) > 1 and len(set(r.data_class_id for r in pl.responses)) == 1:\n",
    "        response = pl.responses[0]\n",
    "        db.session.add(Label(\n",
    "            document_id=pl.document_id,\n",
    "            position=pl.position,\n",
    "            data_class_id=response.data_class_id))\n",
    "\n",
    "db.session.flush()"
   ]
  },
  {
   "cell_type": "markdown",
   "metadata": {},
   "source": [
    "### Name the classes"
   ]
  },
  {
   "cell_type": "code",
   "execution_count": null,
   "metadata": {},
   "outputs": [],
   "source": [
    "print(list(DataClass.query.values(DataClass.classno, DataClass.name)))\n",
    "\n",
    "RECEIPT_CLASS_NAMES = [\n",
    "    \"other\",\n",
    "    \"bill\",\n",
    "    \"cc_slip\",\n",
    "    \"closed_receipt\",\n",
    "]\n",
    "\n",
    "model = DataModel.query.filter_by(name=\"receipts\").first()\n",
    "for data_class in model.classes:\n",
    "    data_class.name = RECEIPT_CLASS_NAMES[data_class.classno]\n",
    "\n",
    "PRICE_CLASS_NAMES = [\n",
    "   \"unknown\",\n",
    "   \"subtotal\",\n",
    "   \"total\",\n",
    "]\n",
    "\n",
    "model = DataModel.query.filter_by(name=\"prices\").first()\n",
    "for data_class in model.classes:\n",
    "    data_class.name = PRICE_CLASS_NAMES[data_class.classno]\n",
    "    \n",
    "db.session.flush()"
   ]
  },
  {
   "cell_type": "markdown",
   "metadata": {},
   "source": [
    "### Generate zipfile of receipts and (csv) labels"
   ]
  },
  {
   "cell_type": "code",
   "execution_count": null,
   "metadata": {},
   "outputs": [],
   "source": [
    "import csv\n",
    "import os\n",
    "import zipfile\n",
    "from tempfile import NamedTemporaryFile\n",
    "\n",
    "def write_zip(myzip, documents, model, include_position=True):\n",
    "    with NamedTemporaryFile(mode=\"w\") as csv_file:\n",
    "        csv_writer = csv.writer(csv_file)\n",
    "\n",
    "        row = [\"filename\", \"label\"]\n",
    "        if include_position:\n",
    "            row.append(\"position\")\n",
    "        csv_writer.writerow(row)\n",
    "\n",
    "        for cls in model.classes:\n",
    "            for label in cls.labels:\n",
    "                document = documents[label.document_id] if label.document_id in documents else label.document\n",
    "                path = document.path\n",
    "                \n",
    "                row = [os.path.basename(path), cls.classno]\n",
    "                if include_position:\n",
    "                    row.append(label.position)\n",
    "\n",
    "                csv_writer.writerow(row)\n",
    "\n",
    "                if document.id not in documents:\n",
    "                    myzip.write(path, os.path.join(\"receipts\", os.path.basename(path)))\n",
    "                    documents[document.id] = document\n",
    "\n",
    "        csv_file.flush()\n",
    "        myzip.write(csv_file.name, \"{}/labels.csv\".format(model.longname))\n",
    "        csv_file.seek(0)\n",
    "        csv_file.truncate()\n",
    "\n",
    "        csv_writer = csv.writer(csv_file)\n",
    "\n",
    "        csv_writer.writerow([\"class_id\", \"class_name\"])\n",
    "        classes = model.classes.order_by(DataClass.classno).values(DataClass.classno, DataClass.name)\n",
    "        for number, name in classes:\n",
    "            csv_writer.writerow([number, name])\n",
    "        \n",
    "        csv_file.flush()\n",
    "        myzip.write(csv_file.name, \"{}/classes.csv\".format(model.longname))\n",
    "    \n",
    "with zipfile.ZipFile(\"data.zip\", \"w\") as myzip:       \n",
    "    documents = {}\n",
    "    write_zip(myzip, documents, DataModel.query.filter_by(name=\"receipts\").first(), include_position=False)\n",
    "    write_zip(myzip, documents, DataModel.query.filter_by(name=\"prices\").first())"
   ]
  },
  {
   "cell_type": "markdown",
   "metadata": {},
   "source": [
    "### Delete all data from database (utility)"
   ]
  },
  {
   "cell_type": "code",
   "execution_count": null,
   "metadata": {},
   "outputs": [],
   "source": [
    "Document.query.delete()\n",
    "Label.query.delete()\n",
    "DataClass.query.delete()\n",
    "PendingLabel.query.delete()\n",
    "PendingLabelResponse.query.delete()\n",
    "User.query.delete()"
   ]
  },
  {
   "cell_type": "markdown",
   "metadata": {},
   "source": [
    "### Print receipts with a given label (utility)"
   ]
  },
  {
   "cell_type": "code",
   "execution_count": null,
   "metadata": {
    "collapsed": true
   },
   "outputs": [],
   "source": [
    "receipts = DataModel.query.filter_by(name=\"receipts\").first()\n",
    "other = receipts.classes.filter_by(name=\"closed_receipt\").first()\n",
    "\n",
    "for label in other.labels:\n",
    "    print(label.document.path)\n",
    "    print(open(label.document.path).read())\n",
    "    \n",
    "    if input() == \"stop\":\n",
    "        break\n",
    "    "
   ]
  }
 ],
 "metadata": {
  "kernelspec": {
   "display_name": "Python 3",
   "language": "python",
   "name": "python3"
  },
  "language_info": {
   "codemirror_mode": {
    "name": "ipython",
    "version": 3
   },
   "file_extension": ".py",
   "mimetype": "text/x-python",
   "name": "python",
   "nbconvert_exporter": "python",
   "pygments_lexer": "ipython3",
   "version": "3.6.1"
  }
 },
 "nbformat": 4,
 "nbformat_minor": 2
}
