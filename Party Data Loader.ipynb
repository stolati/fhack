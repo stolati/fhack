{
 "cells": [
  {
   "cell_type": "code",
   "execution_count": 1,
   "metadata": {},
   "outputs": [],
   "source": [
    "from receipts.app import init_app\n",
    "from receipts.models import Document, Label, DataModel, DataClass, Disagreement, db\n",
    "\n",
    "app = init_app()"
   ]
  },
  {
   "cell_type": "code",
   "execution_count": 2,
   "metadata": {},
   "outputs": [],
   "source": [
    "for model_name in [\"receipts\", \"prices\"]:\n",
    "    if not DataModel.query.filter_by(name=model_name).count():\n",
    "        totals = DataModel(name=model_name)\n",
    "        db.session.add(totals)\n",
    "        \n",
    "db.session.flush()"
   ]
  },
  {
   "cell_type": "code",
   "execution_count": 3,
   "metadata": {},
   "outputs": [
    {
     "name": "stdout",
     "output_type": "stream",
     "text": [
      "250 / 1904\n",
      "500 / 1904\n",
      "750 / 1904\n",
      "1000 / 1904\n",
      "1250 / 1904\n",
      "1500 / 1904\n",
      "1750 / 1904\n",
      "2000 / 14658\n",
      "2250 / 14658\n",
      "2500 / 14658\n",
      "2750 / 14658\n",
      "3000 / 14658\n",
      "3250 / 14658\n",
      "3500 / 14658\n",
      "3750 / 14658\n",
      "4000 / 14658\n",
      "4250 / 14658\n",
      "4500 / 14658\n",
      "4750 / 14658\n",
      "5000 / 14658\n",
      "5250 / 14658\n",
      "5500 / 14658\n",
      "5750 / 14658\n",
      "6000 / 14658\n",
      "6250 / 14658\n",
      "6500 / 14658\n",
      "6750 / 14658\n",
      "7000 / 14658\n",
      "7250 / 14658\n",
      "7500 / 14658\n",
      "7750 / 14658\n",
      "8000 / 14658\n",
      "8250 / 14658\n",
      "8500 / 14658\n",
      "8750 / 14658\n",
      "9000 / 14658\n",
      "9250 / 14658\n",
      "9500 / 14658\n",
      "9750 / 14658\n",
      "10000 / 14658\n",
      "10250 / 14658\n",
      "10500 / 14658\n",
      "10750 / 14658\n",
      "11000 / 14658\n",
      "11250 / 14658\n",
      "11500 / 14658\n",
      "11750 / 14658\n",
      "12000 / 14658\n",
      "12250 / 14658\n",
      "12500 / 14658\n",
      "12750 / 14658\n",
      "13000 / 14658\n",
      "13250 / 14658\n",
      "13500 / 14658\n",
      "13750 / 14658\n",
      "14000 / 14658\n",
      "14250 / 14658\n",
      "14500 / 14658\n",
      "14750 / 14658\n",
      "15000 / 14658\n",
      "15250 / 14658\n",
      "15500 / 14658\n",
      "15750 / 14658\n",
      "16000 / 14658\n",
      "16250 / 14658\n",
      "16500 / 14658\n"
     ]
    }
   ],
   "source": [
    "import json\n",
    "import os\n",
    "from collections import defaultdict\n",
    "from glob import glob\n",
    "\n",
    "for model in DataModel.query:\n",
    "    labels = defaultdict(list)\n",
    "    for datadir in glob(\"party-outputs/[0-9]-*/\"):\n",
    "        labels_path = os.path.join(datadir, model.name, \"labels.dat\")\n",
    "        lines = {}\n",
    "    \n",
    "        with open(labels_path) as label_file:\n",
    "            for line in label_file:\n",
    "                data = json.loads(line)\n",
    "                receipt_path = os.path.join(\"receipt_data/party\", os.path.basename(data[0]))\n",
    "                for position, label in data[1]:\n",
    "                    labels[(receipt_path, position)].append(label)\n",
    "    \n",
    "\n",
    "    count = 0\n",
    "    documents = {}\n",
    "    data_classes = {}\n",
    "    for ((receipt_path, position), responses) in labels.items():\n",
    "        count += 1\n",
    "        if count % 500 == 0:\n",
    "            print(\"{} / {}\".format(count, len(labels)))\n",
    "            \n",
    "        if receipt_path not in documents:\n",
    "            documents[receipt_path] = Document.get_or_create(path=receipt_path)\n",
    "            \n",
    "        if len(set(responses)) == 1 and len(responses) > 1:\n",
    "            classno = responses[0]\n",
    "            \n",
    "            if classno not in data_classes:\n",
    "                data_classes[classno] = DataClass.get_or_create(model=model, classno=classno)\n",
    "        \n",
    "            db.session.add(Label(\n",
    "                document=documents[receipt_path],\n",
    "                position=position,\n",
    "                data_class=data_classes[classno]))               \n",
    "        else:\n",
    "            db.session.add(Disagreement(\n",
    "                model=model,\n",
    "                document=documents[receipt_path],\n",
    "                position=position,\n",
    "                responses = \",\".join(map(str, responses))))\n",
    "                    \n",
    "    db.session.flush()"
   ]
  },
  {
   "cell_type": "code",
   "execution_count": 3,
   "metadata": {},
   "outputs": [
    {
     "data": {
      "text/plain": [
       "1544"
      ]
     },
     "execution_count": 3,
     "metadata": {},
     "output_type": "execute_result"
    }
   ],
   "source": [
    "from "
   ]
  },
  {
   "cell_type": "code",
   "execution_count": 2,
   "metadata": {},
   "outputs": [
    {
     "data": {
      "text/plain": [
       "82"
      ]
     },
     "execution_count": 2,
     "metadata": {},
     "output_type": "execute_result"
    }
   ],
   "source": [
    "Document.query.delete()\n",
    "Label.query.delete()\n",
    "DataClass.query.delete()\n",
    "Disagreement.query.delete()"
   ]
  }
 ],
 "metadata": {
  "kernelspec": {
   "display_name": "Python 3",
   "language": "python",
   "name": "python3"
  },
  "language_info": {
   "codemirror_mode": {
    "name": "ipython",
    "version": 3
   },
   "file_extension": ".py",
   "mimetype": "text/x-python",
   "name": "python",
   "nbconvert_exporter": "python",
   "pygments_lexer": "ipython3",
   "version": "3.6.1"
  }
 },
 "nbformat": 4,
 "nbformat_minor": 2
}
